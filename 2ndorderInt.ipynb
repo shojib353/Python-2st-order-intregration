{
 "cells": [
  {
   "cell_type": "code",
   "execution_count": 14,
   "id": "8a1537fc",
   "metadata": {},
   "outputs": [
    {
     "name": "stdout",
     "output_type": "stream",
     "text": [
      "12.0\n",
      "0.0\n"
     ]
    }
   ],
   "source": [
    "import numpy as np\n",
    "from math import fabs\n",
    "\n",
    "def f(x):\n",
    "    return 3*x*x +2*x\n",
    "\n",
    "N=6\n",
    "a,b=-1,2\n",
    "h=(b-a)/(2*N)\n",
    "x=np.array([a+(i*h) for i in range(2*N+1)])\n",
    "y=np.array([f(_) for _ in x])\n",
    "\n",
    "\n",
    "def secODI(x,y):\n",
    "    n_seg=x.shape[0]-1\n",
    "    h=(x[n_seg]-x[0])/n_seg\n",
    "    s=y[0]+y[n_seg]\n",
    "    \n",
    "    for i in range (1,n_seg):\n",
    "        if i%2!=0:\n",
    "            s=s+4*y[i]\n",
    "    \n",
    "    for j in range (2,n_seg-1):\n",
    "        if j%2==0:\n",
    "            s=s+2*y[j]\n",
    "    \n",
    "    return (h*s)/3\n",
    "\n",
    "TV = 12\n",
    "AV = secODI(x, y)\n",
    "\n",
    "TPRE = fabs((TV - AV)/TV) * 100\n",
    "\n",
    "print(AV)\n",
    "print(TPRE)"
   ]
  },
  {
   "cell_type": "code",
   "execution_count": null,
   "id": "293753ce",
   "metadata": {},
   "outputs": [],
   "source": []
  },
  {
   "cell_type": "code",
   "execution_count": null,
   "id": "195128e2",
   "metadata": {},
   "outputs": [],
   "source": []
  }
 ],
 "metadata": {
  "kernelspec": {
   "display_name": "Python 3 (ipykernel)",
   "language": "python",
   "name": "python3"
  },
  "language_info": {
   "codemirror_mode": {
    "name": "ipython",
    "version": 3
   },
   "file_extension": ".py",
   "mimetype": "text/x-python",
   "name": "python",
   "nbconvert_exporter": "python",
   "pygments_lexer": "ipython3",
   "version": "3.9.7"
  }
 },
 "nbformat": 4,
 "nbformat_minor": 5
}
